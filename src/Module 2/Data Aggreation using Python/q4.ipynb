{
 "cells": [
  {
   "cell_type": "markdown",
   "metadata": {},
   "source": [
    "Title: Hands-on: Real-World Data Aggregation<br>\n",
    "Objective: Apply learned concepts to real-world data scenarios"
   ]
  },
  {
   "cell_type": "markdown",
   "metadata": {},
   "source": [
    "Task 1: Analyzing Sales by Region<br>\n",
    "\n",
    "Task: Use a real-world sales dataset to calculate yearly sales trends by region.<br>\n",
    " Steps:<br>\n",
    " 28. Acquire a dataset containing columns such as 'date', 'region', and 'sales'.<br>\n",
    " 29. Extract the year from the 'date' column.<br>\n",
    " 30. Group by 'year' and 'region' to apply the sum aggregation on 'sales'"
   ]
  },
  {
   "cell_type": "code",
   "execution_count": 1,
   "metadata": {},
   "outputs": [
    {
     "name": "stdout",
     "output_type": "stream",
     "text": [
      "   year region  sales\n",
      "0  2021  North    200\n",
      "1  2021  South    150\n",
      "2  2022  North    250\n",
      "3  2022  South    300\n",
      "4  2023  North    400\n",
      "5  2023  South    350\n"
     ]
    }
   ],
   "source": [
    "import pandas as pd\n",
    "\n",
    "data = {\n",
    "    'date': ['2021-03-15', '2021-07-22', '2022-01-10', '2022-11-05', '2023-05-30', '2023-06-18'],\n",
    "    'region': ['North', 'South', 'North', 'South', 'North', 'South'],\n",
    "    'sales': [200, 150, 250, 300, 400, 350]\n",
    "}\n",
    "\n",
    "df = pd.DataFrame(data)\n",
    "\n",
    "required_columns = ['date', 'region', 'sales']\n",
    "\n",
    "if all(col in df.columns for col in required_columns):\n",
    "    try:\n",
    "        \n",
    "        df['date'] = pd.to_datetime(df['date'], errors='coerce')\n",
    "\n",
    "        \n",
    "        if df['date'].isnull().any():\n",
    "            raise ValueError(\"Some dates could not be parsed. Please check the 'date' column for invalid formats.\")\n",
    "\n",
    "        \n",
    "        df['year'] = df['date'].dt.year\n",
    "\n",
    "        \n",
    "        yearly_sales_by_region = df.groupby(['year', 'region'])['sales'].sum().reset_index()\n",
    "\n",
    "        print(yearly_sales_by_region)\n",
    "    except Exception as e:\n",
    "        print(f\"An error occurred during processing: {e}\")\n",
    "else:\n",
    "    missing_cols = [col for col in required_columns if col not in df.columns]\n",
    "    print(f\"Missing columns: {', '.join(missing_cols)}\")\n",
    "\n"
   ]
  },
  {
   "cell_type": "markdown",
   "metadata": {},
   "source": [
    "Task 2: Customer Purchase Patterns<br>\n",
    "\n",
    "Task: Find the top 5 customers by the total amount spent using a purchases dataset.<br>\n",
    " Steps:<br>\n",
    " 31. Load a dataset with 'customer_id' and 'amount_spent'.<br>\n",
    " 32. Group by 'customer_id'.<br>\n",
    " 33. Use .sum() on 'amount_spent' and sort values"
   ]
  },
  {
   "cell_type": "code",
   "execution_count": 2,
   "metadata": {},
   "outputs": [
    {
     "name": "stdout",
     "output_type": "stream",
     "text": [
      "  customer_id  amount_spent\n",
      "0        C005           240\n",
      "1        C002           220\n",
      "2        C001           210\n",
      "3        C004           200\n",
      "4        C003            80\n"
     ]
    }
   ],
   "source": [
    "import pandas as pd\n",
    "\n",
    "data = {\n",
    "    'customer_id': ['C001', 'C002', 'C003', 'C004', 'C005', 'C001', 'C002', 'C006', 'C007', 'C005'],\n",
    "    'amount_spent': [120, 150, 80, 200, 130, 90, 70, 60, 40, 110]\n",
    "}\n",
    "\n",
    "df = pd.DataFrame(data)\n",
    "required_columns = ['customer_id', 'amount_spent']\n",
    "\n",
    "if all(col in df.columns for col in required_columns):\n",
    "    try:\n",
    "        \n",
    "        top_customers = (\n",
    "            df.groupby('customer_id')['amount_spent']\n",
    "            .sum()\n",
    "            .sort_values(ascending=False)\n",
    "            .head(5)\n",
    "            .reset_index()\n",
    "        )\n",
    "\n",
    "        print(top_customers)\n",
    "    except Exception as e:\n",
    "        print(f\"An error occurred while processing the data: {e}\")\n",
    "else:\n",
    "    missing_cols = [col for col in required_columns if col not in df.columns]\n",
    "    print(f\"Missing columns: {', '.join(missing_cols)}\")\n"
   ]
  },
  {
   "cell_type": "markdown",
   "metadata": {},
   "source": [
    " Task 3: Seasonality Analysis<br>\n",
    "\n",
    " Task: Determine which months have the highest and lowest sales for a retail dataset.<br>\n",
    " Steps:<br>\n",
    " 34. Use a dataset with 'transaction_date' and 'sales'.<br>\n",
    " 35. Extract the month from 'transaction_date'.<br>\n",
    " 36. Group by 'month' and sum 'sales', then sort to find extremes"
   ]
  },
  {
   "cell_type": "code",
   "execution_count": 3,
   "metadata": {},
   "outputs": [
    {
     "name": "stdout",
     "output_type": "stream",
     "text": [
      "      month  sales\n",
      "0      June    750\n",
      "1     March    550\n",
      "2  December    500\n",
      "3  February    300\n",
      "4   January    150\n"
     ]
    }
   ],
   "source": [
    "import pandas as pd\n",
    "\n",
    "data = {\n",
    "    'transaction_date': ['2023-01-15', '2023-02-10', '2023-02-25', '2023-03-05', \n",
    "                         '2023-03-22', '2023-06-18', '2023-06-25', '2023-12-01'],\n",
    "    'sales': [150, 200, 100, 250, 300, 400, 350, 500]\n",
    "}\n",
    "\n",
    "df = pd.DataFrame(data)\n",
    "required_columns = ['transaction_date', 'sales']\n",
    "\n",
    "\n",
    "if all(col in df.columns for col in required_columns):\n",
    "    try:\n",
    "        \n",
    "        df['transaction_date'] = pd.to_datetime(df['transaction_date'], errors='coerce')\n",
    "\n",
    "        \n",
    "        if df['transaction_date'].isnull().any():\n",
    "            raise ValueError(\"Some 'transaction_date' entries could not be parsed. Check date formats.\")\n",
    "\n",
    "        \n",
    "        df['month'] = df['transaction_date'].dt.month_name()\n",
    "\n",
    "        \n",
    "        monthly_sales = (\n",
    "            df.groupby('month')['sales']\n",
    "            .sum()\n",
    "            .sort_values(ascending=False)\n",
    "            .reset_index()\n",
    "        )\n",
    "\n",
    "        print(monthly_sales)\n",
    "    except Exception as e:\n",
    "        print(f\"An error occurred during processing: {e}\")\n",
    "else:\n",
    "    missing = [col for col in required_columns if col not in df.columns]\n",
    "    print(f\"Missing columns: {', '.join(missing)}\")\n",
    "\n",
    "\n"
   ]
  }
 ],
 "metadata": {
  "kernelspec": {
   "display_name": ".venv",
   "language": "python",
   "name": "python3"
  },
  "language_info": {
   "codemirror_mode": {
    "name": "ipython",
    "version": 3
   },
   "file_extension": ".py",
   "mimetype": "text/x-python",
   "name": "python",
   "nbconvert_exporter": "python",
   "pygments_lexer": "ipython3",
   "version": "3.10.12"
  }
 },
 "nbformat": 4,
 "nbformat_minor": 2
}
