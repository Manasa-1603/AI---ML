{
 "cells": [
  {
   "cell_type": "markdown",
   "metadata": {},
   "source": [
    "Title: Introduction to Data Aggregation\n",
    "<br>\n",
    "Objective: Understand the basic concepts of data aggregation and practice simple aggregation methods."
   ]
  },
  {
   "cell_type": "code",
   "execution_count": null,
   "metadata": {},
   "outputs": [],
   "source": []
  },
  {
   "cell_type": "code",
   "execution_count": null,
   "metadata": {},
   "outputs": [],
   "source": []
  },
  {
   "cell_type": "code",
   "execution_count": null,
   "metadata": {},
   "outputs": [],
   "source": []
  },
  {
   "cell_type": "code",
   "execution_count": null,
   "metadata": {},
   "outputs": [],
   "source": []
  },
  {
   "cell_type": "code",
   "execution_count": null,
   "metadata": {},
   "outputs": [],
   "source": []
  },
  {
   "cell_type": "code",
   "execution_count": null,
   "metadata": {},
   "outputs": [],
   "source": []
  },
  {
   "cell_type": "code",
   "execution_count": null,
   "metadata": {},
   "outputs": [],
   "source": []
  },
  {
   "cell_type": "code",
   "execution_count": null,
   "metadata": {},
   "outputs": [],
   "source": []
  },
  {
   "cell_type": "code",
   "execution_count": null,
   "metadata": {},
   "outputs": [],
   "source": []
  },
  {
   "cell_type": "code",
   "execution_count": null,
   "metadata": {},
   "outputs": [],
   "source": []
  },
  {
   "cell_type": "code",
   "execution_count": null,
   "metadata": {},
   "outputs": [],
   "source": []
  },
  {
   "cell_type": "code",
   "execution_count": null,
   "metadata": {},
   "outputs": [],
   "source": []
  },
  {
   "cell_type": "markdown",
   "metadata": {},
   "source": [
    "Task 1: Calculating Sum\n",
    "<br>\n",
    "Task: Use a numerical dataset containing columns like 'sales', 'profit', and 'quantity'.\n",
    "Calculate the total sales for the dataset.\n",
    "<br>\n",
    "Steps:<br>\n",
    "1. Load the dataset using pandas.<br>\n",
    "2. Apply the .sum() function on the 'sales' column.<br>\n",
    "3. Verify the result by manually summing a portion of the 'sales' values."
   ]
  },
  {
   "cell_type": "code",
   "execution_count": 1,
   "metadata": {},
   "outputs": [
    {
     "name": "stdout",
     "output_type": "stream",
     "text": [
      "Total Sales: 1000\n",
      "Manual partial sum (first two): 300\n"
     ]
    }
   ],
   "source": [
    "import pandas as pd\n",
    "data={\n",
    "    'sales':[100,200,300,400],\n",
    "    'profit':[20,40,30,10],\n",
    "    'quantity':[1,2,1,1]\n",
    "}\n",
    "required_columns = {'sales', 'profit', 'quantity'}\n",
    "df=pd.DataFrame(data)\n",
    "if not required_columns.issubset(df.columns):\n",
    "    missing = required_columns - set(df.columns)\n",
    "    raise ValueError(f\"Missing required columns: {missing}\")\n",
    "\n",
    "sales_data = df['sales']\n",
    "\n",
    "total_sales = sales_data.sum()\n",
    "print(\"Total Sales:\", total_sales)\n",
    "\n",
    "manual_sum = sales_data.iloc[0] + sales_data.iloc[1]\n",
    "print(\"Manual partial sum (first two):\", manual_sum)"
   ]
  },
  {
   "cell_type": "markdown",
   "metadata": {},
   "source": [
    "Task 2: Calculating Mean<br>\n",
    "\n",
    "Task: Calculate the average quantity sold.<br>\n",
    "Steps:<br>\n",
    "4. Load the dataset.<br>\n",
    "5. Use the .mean() function on the 'quantity' column to find the average.<br>\n",
    "6. Double-check by calculating the mean manually on a small selection."
   ]
  },
  {
   "cell_type": "code",
   "execution_count": 2,
   "metadata": {},
   "outputs": [
    {
     "name": "stdout",
     "output_type": "stream",
     "text": [
      "Average Quantity: 1.25\n"
     ]
    }
   ],
   "source": [
    "import pandas as pd\n",
    "data={\n",
    "    'sales':[100,200,300,400],\n",
    "    'profit':[20,40,30,10],\n",
    "    'quantity':[1,2,1,1]\n",
    "}\n",
    "required_columns = {'sales', 'profit', 'quantity'}\n",
    "\n",
    "df = pd.DataFrame(data)\n",
    "\n",
    "if not required_columns.issubset(df.columns):\n",
    "    missing = required_columns - set(df.columns)\n",
    "    raise ValueError(f\"Missing required columns: {missing}\")\n",
    "\n",
    "quantity_data = df['quantity']\n",
    "\n",
    "average_quantity = quantity_data.mean()\n",
    "print(\"Average Quantity:\", average_quantity)"
   ]
  }
 ],
 "metadata": {
  "kernelspec": {
   "display_name": ".venv",
   "language": "python",
   "name": "python3"
  },
  "language_info": {
   "codemirror_mode": {
    "name": "ipython",
    "version": 3
   },
   "file_extension": ".py",
   "mimetype": "text/x-python",
   "name": "python",
   "nbconvert_exporter": "python",
   "pygments_lexer": "ipython3",
   "version": "3.10.12"
  }
 },
 "nbformat": 4,
 "nbformat_minor": 2
}
