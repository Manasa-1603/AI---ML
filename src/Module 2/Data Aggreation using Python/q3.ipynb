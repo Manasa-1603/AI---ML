{
 "cells": [
  {
   "cell_type": "markdown",
   "metadata": {},
   "source": [
    "Pivot Tables & Advanced Aggregations<br>\n",
    "Objective: Utilize pivot tables for complex aggregation tasks."
   ]
  },
  {
   "cell_type": "markdown",
   "metadata": {},
   "source": [
    "Task 1: Creating a Basic Pivot Table<br>\n",
    "Task: Create a pivot table that shows the total sales for each 'category' across 'years'.<br>\n",
    "Steps:<br>\n",
    "19. Use pandas pivot_table() function.<br>\n",
    "20. Set index='year' and columns='category' .<br>\n",
    "21. Define the value parameter as 'sales' and aggregation function as np.sum ."
   ]
  },
  {
   "cell_type": "code",
   "execution_count": 2,
   "metadata": {},
   "outputs": [
    {
     "name": "stdout",
     "output_type": "stream",
     "text": [
      "category      A      B      C\n",
      "year                         \n",
      "2022      100.0  150.0    NaN\n",
      "2023      200.0  250.0  180.0\n",
      "2024      220.0    NaN  300.0\n"
     ]
    }
   ],
   "source": [
    "import pandas as pd\n",
    "\n",
    "data = {\n",
    "    'year': [2022, 2022, 2023, 2023, 2023, 2024, 2024],\n",
    "    'category': ['A', 'B', 'A', 'B', 'C', 'A', 'C'],\n",
    "    'sales': [100, 150, 200, 250, 180, 220, 300]\n",
    "}\n",
    "\n",
    "df = pd.DataFrame(data)\n",
    "pivot = pd.pivot_table(df, \n",
    "                       index='year', \n",
    "                       columns='category', \n",
    "                       values='sales', \n",
    "                       aggfunc='sum')\n",
    "print(pivot)\n"
   ]
  },
  {
   "cell_type": "markdown",
   "metadata": {},
   "source": [
    "Task 2: Pivot Table with Multiple Aggregations<br>\n",
    "\n",
    "Task: Generate a pivot table with both mean and max of 'profit' for 'category' each month.<br>\n",
    "Steps:<br>\n",
    "22. Create a pivot table.<br>\n",
    "23. Use aggfunc=['mean', 'max'] .<br>\n",
    "24. Analyze the pivot table output."
   ]
  },
  {
   "cell_type": "code",
   "execution_count": 3,
   "metadata": {},
   "outputs": [
    {
     "name": "stdout",
     "output_type": "stream",
     "text": [
      "           mean                  max              \n",
      "category      A      B      C      A      B      C\n",
      "month                                             \n",
      "Feb       180.0  220.0    NaN  180.0  220.0    NaN\n",
      "Jan       120.0  200.0    NaN  120.0  200.0    NaN\n",
      "Mar       150.0  210.0  300.0  150.0  210.0  300.0\n"
     ]
    }
   ],
   "source": [
    "import pandas as pd\n",
    "\n",
    "data = {\n",
    "    'month': ['Jan', 'Jan', 'Feb', 'Feb', 'Mar', 'Mar', 'Mar'],\n",
    "    'category': ['A', 'B', 'A', 'B', 'A', 'B', 'C'],\n",
    "    'profit': [120, 200, 180, 220, 150, 210, 300]\n",
    "}\n",
    "\n",
    "df = pd.DataFrame(data)\n",
    "\n",
    "pivot = pd.pivot_table(df,\n",
    "                       index='month',\n",
    "                       columns='category',\n",
    "                       values='profit',\n",
    "                       aggfunc=['mean', 'max'])\n",
    "\n",
    "print(pivot)"
   ]
  },
  {
   "cell_type": "markdown",
   "metadata": {},
   "source": [
    "Task 3: Advanced Pivot Table with Margins<br>\n",
    "\n",
    "Task: Create a pivot table that includes subtotals for each 'region' and 'category'.<br>\n",
    "Steps:<br>\n",
    "25. Use pivot_table() with margins=True .<br>\n",
    "26. Set the index and columns appropriately.<br>\n",
    "27. Validate subtotal correctness by summing manually."
   ]
  },
  {
   "cell_type": "code",
   "execution_count": null,
   "metadata": {},
   "outputs": [
    {
     "name": "stdout",
     "output_type": "stream",
     "text": [
      "category      A      B      C  Total\n",
      "region                              \n",
      "East      350.0  200.0    NaN    550\n",
      "South       NaN  180.0    NaN    180\n",
      "West      150.0  300.0  400.0    850\n",
      "Total     500.0  680.0  400.0   1580\n"
     ]
    }
   ],
   "source": [
    "import pandas as pd\n",
    "\n",
    "data = {\n",
    "    'region': ['East', 'East', 'West', 'West', 'East', 'West', 'South'],\n",
    "    'category': ['A', 'B', 'A', 'B', 'A', 'C', 'B'],\n",
    "    'sales': [100, 200, 150, 300, 250, 400, 180]\n",
    "}\n",
    "\n",
    "df = pd.DataFrame(data)\n",
    "\n",
    "pivot = pd.pivot_table(df,\n",
    "                       index='region',\n",
    "                       columns='category',\n",
    "                       values='sales',\n",
    "                       aggfunc='sum',\n",
    "                       margins=True,         \n",
    "                       margins_name='Total') \n",
    "\n",
    "print(pivot)"
   ]
  }
 ],
 "metadata": {
  "kernelspec": {
   "display_name": ".venv",
   "language": "python",
   "name": "python3"
  },
  "language_info": {
   "codemirror_mode": {
    "name": "ipython",
    "version": 3
   },
   "file_extension": ".py",
   "mimetype": "text/x-python",
   "name": "python",
   "nbconvert_exporter": "python",
   "pygments_lexer": "ipython3",
   "version": "3.10.12"
  }
 },
 "nbformat": 4,
 "nbformat_minor": 2
}
