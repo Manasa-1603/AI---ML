{
 "cells": [
  {
   "cell_type": "markdown",
   "metadata": {},
   "source": [
    "Title: Grouping & Aggregating Data using Pandas<br>\n",
    "Objective: Learn how to group data and perform aggregations on these groups."
   ]
  },
  {
   "cell_type": "markdown",
   "metadata": {},
   "source": [
    "Task 1: Grouping by a Single Column<br>\n",
    "\n",
    "Task: Group the dataset by 'region' and calculate total sales per region.<br>\n",
    "Steps:<br>\n",
    "10. Load the dataset.<br>\n",
    "11. Use groupby('region') on the DataFrame.<br>\n",
    "12. Apply .sum() to the 'sales' column."
   ]
  },
  {
   "cell_type": "code",
   "execution_count": null,
   "metadata": {},
   "outputs": [
    {
     "name": "stdout",
     "output_type": "stream",
     "text": [
      "region\n",
      "East     350\n",
      "North    650\n",
      "South    250\n",
      "West     500\n",
      "Name: sales, dtype: int64\n"
     ]
    }
   ],
   "source": [
    "import pandas as pd\n",
    "data = {\n",
    "    'region': ['North', 'South', 'East', 'West', 'North', 'South', 'East', 'West'],\n",
    "    'sales': [250, 150, 200, 300, 400, 100, 150, 200]\n",
    "}\n",
    "\n",
    "df = pd.DataFrame(data)\n",
    "grouped_sales = df.groupby('region')['sales'].sum()\n",
    "print(grouped_sales)"
   ]
  },
  {
   "cell_type": "markdown",
   "metadata": {},
   "source": [
    "Task 2: Grouping by Multiple Columns<br>\n",
    "\n",
    "Task: Group the dataset by 'region' and 'category', then find the average sales.<br>\n",
    "Steps:<br>\n",
    "13. Group by ['region', 'category'].<br>\n",
    "14. Use .mean() on the 'sales' column.<br>\n",
    "15. Examine the resulting DataFrame structure."
   ]
  },
  {
   "cell_type": "code",
   "execution_count": 2,
   "metadata": {},
   "outputs": [
    {
     "name": "stdout",
     "output_type": "stream",
     "text": [
      "region  category\n",
      "East    B           175.0\n",
      "North   A           325.0\n",
      "South   A           150.0\n",
      "        B           100.0\n",
      "West    A           200.0\n",
      "        B           300.0\n",
      "Name: sales, dtype: float64\n"
     ]
    }
   ],
   "source": [
    "import pandas as pd\n",
    "\n",
    "data = {\n",
    "    'region': ['North', 'South', 'East', 'West', 'North', 'South', 'East', 'West'],\n",
    "    'category': ['A', 'A', 'B', 'B', 'A', 'B', 'B', 'A'],\n",
    "    'sales': [250, 150, 200, 300, 400, 100, 150, 200]\n",
    "}\n",
    "\n",
    "df = pd.DataFrame(data)\n",
    "grouped_avg_sales = df.groupby(['region', 'category'])['sales'].mean()\n",
    "print(grouped_avg_sales)"
   ]
  },
  {
   "cell_type": "markdown",
   "metadata": {},
   "source": [
    "Task 3: Aggregating Multiple Functions<br>\n",
    "\n",
    "Task: Group data by 'category' and apply multiple aggregation functions (sum and count) on 'quantity'.<br>\n",
    "Steps:<br>\n",
    "16. Group by 'category'.<br>\n",
    "17. Use .agg(['sum', 'count']) on 'quantity'.<br>\n",
    "18. Analyze the result to understand how multiple aggregations work."
   ]
  },
  {
   "cell_type": "code",
   "execution_count": 3,
   "metadata": {},
   "outputs": [
    {
     "name": "stdout",
     "output_type": "stream",
     "text": [
      "          sum  count\n",
      "category            \n",
      "A          55      4\n",
      "B          50      4\n"
     ]
    }
   ],
   "source": [
    "import pandas as pd\n",
    "\n",
    "data = {\n",
    "    'category': ['A', 'A', 'B', 'B', 'A', 'B', 'B', 'A'],\n",
    "    'quantity': [10, 15, 5, 20, 25, 10, 15, 5]\n",
    "}\n",
    "\n",
    "df = pd.DataFrame(data)\n",
    "aggregated_result = df.groupby('category')['quantity'].agg(['sum', 'count'])\n",
    "print(aggregated_result)"
   ]
  }
 ],
 "metadata": {
  "kernelspec": {
   "display_name": ".venv",
   "language": "python",
   "name": "python3"
  },
  "language_info": {
   "codemirror_mode": {
    "name": "ipython",
    "version": 3
   },
   "file_extension": ".py",
   "mimetype": "text/x-python",
   "name": "python",
   "nbconvert_exporter": "python",
   "pygments_lexer": "ipython3",
   "version": "3.10.12"
  }
 },
 "nbformat": 4,
 "nbformat_minor": 2
}
